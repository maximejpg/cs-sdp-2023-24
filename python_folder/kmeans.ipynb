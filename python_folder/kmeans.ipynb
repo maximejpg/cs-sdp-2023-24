{
 "cells": [
  {
   "cell_type": "code",
   "execution_count": 20,
   "metadata": {},
   "outputs": [],
   "source": [
    "import os\n",
    "import sys\n",
    "\n",
    "sys.path.append(\"../python\")\n",
    "\n",
    "import matplotlib.pyplot as plt\n",
    "import numpy as np"
   ]
  },
  {
   "cell_type": "code",
   "execution_count": 21,
   "metadata": {},
   "outputs": [],
   "source": [
    "from data import Dataloader\n",
    "from models import RandomExampleModel,TwoClustersMIP\n",
    "import metrics"
   ]
  },
  {
   "cell_type": "code",
   "execution_count": 22,
   "metadata": {},
   "outputs": [],
   "source": [
    "# Loading the data\n",
    "data_loader = Dataloader(\"../data/dataset_10\") # Specify path to the dataset you want to load\n",
    "X, Y= data_loader.load()\n"
   ]
  },
  {
   "cell_type": "code",
   "execution_count": 23,
   "metadata": {},
   "outputs": [],
   "source": [
    "df= X-Y\n",
    "Z=np.load(\"../data/dataset_10/Z.npy\")"
   ]
  },
  {
   "cell_type": "code",
   "execution_count": 24,
   "metadata": {},
   "outputs": [
    {
     "name": "stdout",
     "output_type": "stream",
     "text": [
      "Adjusted Rand Index: 0.4764599641524036\n"
     ]
    }
   ],
   "source": [
    "from sklearn.cluster import KMeans\n",
    "from sklearn.metrics import adjusted_rand_score\n",
    "\n",
    "# Assuming you have your data as 'data' and ground truth labels as 'ground_truth_labels'\n",
    "\n",
    "# Create KMeans instance for 3 clusters\n",
    "kmeans = KMeans(n_clusters=3)\n",
    "\n",
    "# Fit the model\n",
    "kmeans.fit(df)\n",
    "\n",
    "# Predict the clusters\n",
    "predicted_labels = kmeans.labels_\n",
    "\n",
    "# Evaluate the performance\n",
    "score = adjusted_rand_score(Z, predicted_labels)\n",
    "print(\"Adjusted Rand Index:\", score)\n"
   ]
  },
  {
   "cell_type": "code",
   "execution_count": null,
   "metadata": {},
   "outputs": [],
   "source": []
  },
  {
   "cell_type": "code",
   "execution_count": 25,
   "metadata": {},
   "outputs": [],
   "source": [
    "from sklearn.cluster import SpectralClustering\n",
    "from sklearn.metrics import adjusted_rand_score\n",
    "\n",
    "# Assuming your data is in 'data' and ground truth labels in 'ground_truth_labels'\n",
    "\n",
    "# Create SpectralClustering instance\n",
    "spectral = SpectralClustering(n_clusters=3, affinity='nearest_neighbors')\n",
    "\n",
    "# Fit the model\n",
    "spectral.fit(df)\n",
    "\n",
    "# Predict the clusters\n",
    "predicted_labels = spectral.labels_\n",
    "\n",
    "# Evaluate the performance\n",
    "score = adjusted_rand_score(Z, predicted_labels)\n",
    "print(\"Adjusted Rand Index:\", score)"
   ]
  }
 ],
 "metadata": {
  "kernelspec": {
   "display_name": "xaiboost",
   "language": "python",
   "name": "python3"
  },
  "language_info": {
   "codemirror_mode": {
    "name": "ipython",
    "version": 3
   },
   "file_extension": ".py",
   "mimetype": "text/x-python",
   "name": "python",
   "nbconvert_exporter": "python",
   "pygments_lexer": "ipython3",
   "version": "3.12.1"
  }
 },
 "nbformat": 4,
 "nbformat_minor": 2
}
