{
 "cells": [
  {
   "cell_type": "code",
   "execution_count": 1,
   "metadata": {},
   "outputs": [],
   "source": [
    "import os\n",
    "import sys\n",
    "\n",
    "sys.path.append(\"../python\")\n",
    "\n",
    "import matplotlib.pyplot as plt\n",
    "import numpy as np"
   ]
  },
  {
   "cell_type": "code",
   "execution_count": 2,
   "metadata": {},
   "outputs": [],
   "source": [
    "from data import Dataloader\n",
    "import metrics"
   ]
  },
  {
   "cell_type": "code",
   "execution_count": 3,
   "metadata": {},
   "outputs": [],
   "source": [
    "# Loading the data\n",
    "data_loader = Dataloader(\"../data/dataset_10\") # Specify path to the dataset you want to load\n",
    "X, Y= data_loader.load()\n"
   ]
  },
  {
   "cell_type": "code",
   "execution_count": 4,
   "metadata": {},
   "outputs": [],
   "source": [
    "df= X-Y\n",
    "Z=np.load(\"../data/dataset_10/Z.npy\")"
   ]
  },
  {
   "cell_type": "code",
   "execution_count": 5,
   "metadata": {},
   "outputs": [
    {
     "name": "stdout",
     "output_type": "stream",
     "text": [
      "Adjusted Rand Index: 0.4682444688814623\n"
     ]
    },
    {
     "name": "stderr",
     "output_type": "stream",
     "text": [
      "c:\\Users\\romai\\Documents\\Centrale\\Système de décision\\Projet\\cs-sdp-2023-24\\.venv\\Lib\\site-packages\\joblib\\externals\\loky\\backend\\context.py:136: UserWarning: Could not find the number of physical cores for the following reason:\n",
      "found 0 physical cores < 1\n",
      "Returning the number of logical cores instead. You can silence this warning by setting LOKY_MAX_CPU_COUNT to the number of cores you want to use.\n",
      "  warnings.warn(\n",
      "  File \"c:\\Users\\romai\\Documents\\Centrale\\Système de décision\\Projet\\cs-sdp-2023-24\\.venv\\Lib\\site-packages\\joblib\\externals\\loky\\backend\\context.py\", line 282, in _count_physical_cores\n",
      "    raise ValueError(f\"found {cpu_count_physical} physical cores < 1\")\n"
     ]
    }
   ],
   "source": [
    "from sklearn.cluster import KMeans\n",
    "from sklearn.metrics import adjusted_rand_score\n",
    "\n",
    "# Assuming you have your data as 'data' and ground truth labels as 'ground_truth_labels'\n",
    "\n",
    "# Create KMeans instance for 3 clusters\n",
    "kmeans = KMeans(n_clusters=3)\n",
    "\n",
    "# Fit the model\n",
    "kmeans.fit(df)\n",
    "\n",
    "# Predict the clusters\n",
    "predicted_labels = kmeans.labels_\n",
    "\n",
    "# Evaluate the performance\n",
    "score = adjusted_rand_score(Z, predicted_labels)\n",
    "print(\"Adjusted Rand Index:\", score)\n"
   ]
  },
  {
   "cell_type": "code",
   "execution_count": 86,
   "metadata": {},
   "outputs": [],
   "source": [
    "# from sklearn.cluster import SpectralClustering\n",
    "# from sklearn.metrics import adjusted_rand_score\n",
    "\n",
    "# # Assuming your data is in 'data' and ground truth labels in 'ground_truth_labels'\n",
    "\n",
    "# # Create SpectralClustering instance\n",
    "# spectral = SpectralClustering(n_clusters=3, affinity='nearest_neighbors')\n",
    "\n",
    "# # Fit the model\n",
    "# spectral.fit(df)\n",
    "\n",
    "# # Predict the clusters\n",
    "# predicted_labels = spectral.labels_\n",
    "\n",
    "# # Evaluate the performance\n",
    "# score = adjusted_rand_score(Z, predicted_labels)\n",
    "# print(\"Adjusted Rand Index:\", score)"
   ]
  },
  {
   "cell_type": "code",
   "execution_count": 6,
   "metadata": {},
   "outputs": [
    {
     "name": "stdout",
     "output_type": "stream",
     "text": [
      "[0.13155  0.102793 0.266773 0.273273 0.482818 0.598529 0.443253 0.079392\n",
      " 0.696425 0.205184]\n"
     ]
    }
   ],
   "source": [
    "print(X[0])"
   ]
  },
  {
   "cell_type": "code",
   "execution_count": 7,
   "metadata": {},
   "outputs": [],
   "source": [
    "import numpy as np\n",
    "\n",
    "def split_dataset(X, split_table):\n",
    "    dataset_0 = []\n",
    "    dataset_1 = []\n",
    "    dataset_2 = []\n",
    "\n",
    "    for i in range(len(split_table)):\n",
    "        if split_table[i]==0:\n",
    "            dataset_0.append(X[i])\n",
    "        if split_table[i]==1:\n",
    "            dataset_1.append(X[i])\n",
    "        if split_table[i]==2:\n",
    "            dataset_2.append(X[i])\n",
    "\n",
    "    # Return the datasets as tuples\n",
    "    return np.array(dataset_0),np.array(dataset_1), np.array(dataset_2)\n",
    "\n",
    "# Example usage\n",
    "X_0, X_1, X_2 = split_dataset(X, predicted_labels)\n",
    "\n",
    "Y_0, Y_1, Y_2 = split_dataset(Y, predicted_labels)\n",
    "\n",
    "# X_0 = list(list(array) for array in X_0)\n",
    "# X_1 = list(list(array) for array in X_1)\n",
    "# X_2 = list(list(array) for array in X_2)\n",
    "# Y_0 = list(list(array) for array in Y_0)\n",
    "# Y_1 = list(list(array) for array in Y_1)\n",
    "# Y_2 = list(list(array) for array in Y_2)\n",
    "\n"
   ]
  },
  {
   "cell_type": "code",
   "execution_count": 8,
   "metadata": {},
   "outputs": [
    {
     "name": "stdout",
     "output_type": "stream",
     "text": [
      "[1 2 2 ... 1 1 1]\n"
     ]
    }
   ],
   "source": [
    "print(predicted_labels)"
   ]
  },
  {
   "cell_type": "code",
   "execution_count": 9,
   "metadata": {},
   "outputs": [
    {
     "name": "stdout",
     "output_type": "stream",
     "text": [
      "WARNING:tensorflow:From c:\\Users\\romai\\Documents\\Centrale\\Système de décision\\Projet\\cs-sdp-2023-24\\.venv\\Lib\\site-packages\\keras\\src\\losses.py:2976: The name tf.losses.sparse_softmax_cross_entropy is deprecated. Please use tf.compat.v1.losses.sparse_softmax_cross_entropy instead.\n",
      "\n",
      "%pylab is deprecated, use %matplotlib inline and import the required libraries.\n",
      "Populating the interactive namespace from numpy and matplotlib\n"
     ]
    }
   ],
   "source": [
    "import numpy as np\n",
    "\n",
    "import keras\n",
    "from keras import backend\n",
    "from keras.layers import Activation, Add, Dense, Input, Lambda, Dropout, Subtract\n",
    "from keras.models import Model, Sequential\n",
    "from keras.utils import plot_model\n",
    "%pylab inline\n",
    "\n",
    "INPUT_DIM = 10"
   ]
  },
  {
   "cell_type": "code",
   "execution_count": 10,
   "metadata": {},
   "outputs": [],
   "source": [
    "def create_base_network(input_dim):\n",
    "    '''Base network to be shared (eq. to feature extraction).\n",
    "    '''\n",
    "    seq = Sequential()\n",
    "    seq.add(Dense(INPUT_DIM, input_shape=(input_dim,), activation='relu'))\n",
    "    seq.add(Dropout(0.1))\n",
    "    seq.add(Dense(64, activation='relu'))\n",
    "    seq.add(Dropout(0.1))\n",
    "    seq.add(Dense(32, activation='relu'))\n",
    "    seq.add(Dense(1))\n",
    "    return seq"
   ]
  },
  {
   "cell_type": "code",
   "execution_count": 11,
   "metadata": {},
   "outputs": [],
   "source": [
    "def create_meta_network(input_dim, base_network):\n",
    "    input_a = Input(shape=(input_dim,))\n",
    "    input_b = Input(shape=(input_dim,))\n",
    "\n",
    "    rel_score = base_network(input_a)\n",
    "    irr_score = base_network(input_b)\n",
    "\n",
    "    # subtract scores\n",
    "    diff = Subtract()([rel_score, irr_score])\n",
    "\n",
    "    # Pass difference through sigmoid function.\n",
    "    prob = Activation(\"sigmoid\")(diff)\n",
    "\n",
    "    # Build model.\n",
    "    model = Model(inputs = [input_a, input_b], outputs = prob)\n",
    "    model.compile(optimizer = \"adam\", loss = \"binary_crossentropy\")\n",
    "\n",
    "    return model"
   ]
  },
  {
   "cell_type": "code",
   "execution_count": 12,
   "metadata": {},
   "outputs": [
    {
     "name": "stdout",
     "output_type": "stream",
     "text": [
      "WARNING:tensorflow:From c:\\Users\\romai\\Documents\\Centrale\\Système de décision\\Projet\\cs-sdp-2023-24\\.venv\\Lib\\site-packages\\keras\\src\\backend.py:873: The name tf.get_default_graph is deprecated. Please use tf.compat.v1.get_default_graph instead.\n",
      "\n",
      "WARNING:tensorflow:From c:\\Users\\romai\\Documents\\Centrale\\Système de décision\\Projet\\cs-sdp-2023-24\\.venv\\Lib\\site-packages\\keras\\src\\optimizers\\__init__.py:309: The name tf.train.Optimizer is deprecated. Please use tf.compat.v1.train.Optimizer instead.\n",
      "\n",
      "Model: \"model\"\n",
      "__________________________________________________________________________________________________\n",
      " Layer (type)                Output Shape                 Param #   Connected to                  \n",
      "==================================================================================================\n",
      " input_1 (InputLayer)        [(None, 10)]                 0         []                            \n",
      "                                                                                                  \n",
      " input_2 (InputLayer)        [(None, 10)]                 0         []                            \n",
      "                                                                                                  \n",
      " sequential (Sequential)     (None, 1)                    2927      ['input_1[0][0]',             \n",
      "                                                                     'input_2[0][0]']             \n",
      "                                                                                                  \n",
      " subtract (Subtract)         (None, 1)                    0         ['sequential[0][0]',          \n",
      "                                                                     'sequential[1][0]']          \n",
      "                                                                                                  \n",
      " activation (Activation)     (None, 1)                    0         ['subtract[0][0]']            \n",
      "                                                                                                  \n",
      "==================================================================================================\n",
      "Total params: 2927 (11.43 KB)\n",
      "Trainable params: 2927 (11.43 KB)\n",
      "Non-trainable params: 0 (0.00 Byte)\n",
      "__________________________________________________________________________________________________\n",
      "Model: \"model_1\"\n",
      "__________________________________________________________________________________________________\n",
      " Layer (type)                Output Shape                 Param #   Connected to                  \n",
      "==================================================================================================\n",
      " input_3 (InputLayer)        [(None, 10)]                 0         []                            \n",
      "                                                                                                  \n",
      " input_4 (InputLayer)        [(None, 10)]                 0         []                            \n",
      "                                                                                                  \n",
      " sequential_1 (Sequential)   (None, 1)                    2927      ['input_3[0][0]',             \n",
      "                                                                     'input_4[0][0]']             \n",
      "                                                                                                  \n",
      " subtract_1 (Subtract)       (None, 1)                    0         ['sequential_1[0][0]',        \n",
      "                                                                     'sequential_1[1][0]']        \n",
      "                                                                                                  \n",
      " activation_1 (Activation)   (None, 1)                    0         ['subtract_1[0][0]']          \n",
      "                                                                                                  \n",
      "==================================================================================================\n",
      "Total params: 2927 (11.43 KB)\n",
      "Trainable params: 2927 (11.43 KB)\n",
      "Non-trainable params: 0 (0.00 Byte)\n",
      "__________________________________________________________________________________________________\n",
      "Model: \"model_2\"\n",
      "__________________________________________________________________________________________________\n",
      " Layer (type)                Output Shape                 Param #   Connected to                  \n",
      "==================================================================================================\n",
      " input_5 (InputLayer)        [(None, 10)]                 0         []                            \n",
      "                                                                                                  \n",
      " input_6 (InputLayer)        [(None, 10)]                 0         []                            \n",
      "                                                                                                  \n",
      " sequential_2 (Sequential)   (None, 1)                    2927      ['input_5[0][0]',             \n",
      "                                                                     'input_6[0][0]']             \n",
      "                                                                                                  \n",
      " subtract_2 (Subtract)       (None, 1)                    0         ['sequential_2[0][0]',        \n",
      "                                                                     'sequential_2[1][0]']        \n",
      "                                                                                                  \n",
      " activation_2 (Activation)   (None, 1)                    0         ['subtract_2[0][0]']          \n",
      "                                                                                                  \n",
      "==================================================================================================\n",
      "Total params: 2927 (11.43 KB)\n",
      "Trainable params: 2927 (11.43 KB)\n",
      "Non-trainable params: 0 (0.00 Byte)\n",
      "__________________________________________________________________________________________________\n"
     ]
    }
   ],
   "source": [
    "base_network_1 = create_base_network(INPUT_DIM)\n",
    "model_1 = create_meta_network(INPUT_DIM, base_network_1)\n",
    "model_1.summary()\n",
    "\n",
    "base_network_2 = create_base_network(INPUT_DIM)\n",
    "model_2 = create_meta_network(INPUT_DIM, base_network_2)\n",
    "model_2.summary()\n",
    "\n",
    "base_network_3 = create_base_network(INPUT_DIM)\n",
    "model_3 = create_meta_network(INPUT_DIM, base_network_3)\n",
    "model_3.summary()"
   ]
  },
  {
   "cell_type": "code",
   "execution_count": 13,
   "metadata": {},
   "outputs": [],
   "source": [
    "y_0 = np.ones((len(X_0), 1))\n",
    "y_1 = np.ones((len(X_1), 1))\n",
    "y_2 = np.ones((len(X_2), 1))"
   ]
  },
  {
   "cell_type": "code",
   "execution_count": 14,
   "metadata": {},
   "outputs": [
    {
     "name": "stdout",
     "output_type": "stream",
     "text": [
      "[[0.734527 0.932119 0.946412 ... 0.615256 0.524477 0.334976]\n",
      " [0.618549 0.19205  0.200985 ... 0.742065 0.833518 0.413484]\n",
      " [0.864225 0.929088 0.711469 ... 0.928371 0.878105 0.524462]\n",
      " ...\n",
      " [0.503326 0.26748  0.099818 ... 0.694553 0.606376 0.95908 ]\n",
      " [0.61064  0.901132 0.162891 ... 0.972982 0.57055  0.809237]\n",
      " [0.265505 0.234841 0.913884 ... 0.896326 0.22782  0.579234]]\n",
      "[[0.977782 0.021238 0.771218 ... 0.219349 0.464368 0.056511]\n",
      " [0.757219 0.728129 0.282502 ... 0.526059 0.419308 0.728467]\n",
      " [0.74381  0.283733 0.267767 ... 0.056101 0.687921 0.599899]\n",
      " ...\n",
      " [0.218459 0.028237 0.843273 ... 0.281553 0.079757 0.913161]\n",
      " [0.824696 0.248319 0.016792 ... 0.401544 0.855044 0.58998 ]\n",
      " [0.030068 0.329866 0.332867 ... 0.767456 0.456336 0.289816]]\n",
      "[[1.]\n",
      " [1.]\n",
      " [1.]\n",
      " ...\n",
      " [1.]\n",
      " [1.]\n",
      " [1.]]\n"
     ]
    }
   ],
   "source": [
    "print(X_0)\n",
    "print(Y_0)\n",
    "print(y_0)"
   ]
  },
  {
   "cell_type": "code",
   "execution_count": 15,
   "metadata": {},
   "outputs": [
    {
     "name": "stdout",
     "output_type": "stream",
     "text": [
      "Epoch 1/20\n",
      "WARNING:tensorflow:From c:\\Users\\romai\\Documents\\Centrale\\Système de décision\\Projet\\cs-sdp-2023-24\\.venv\\Lib\\site-packages\\keras\\src\\utils\\tf_utils.py:492: The name tf.ragged.RaggedTensorValue is deprecated. Please use tf.compat.v1.ragged.RaggedTensorValue instead.\n",
      "\n",
      "1308/1308 [==============================] - 2s 1ms/step - loss: 0.1561\n",
      "Epoch 2/20\n",
      "1308/1308 [==============================] - 1s 951us/step - loss: 0.0387\n",
      "Epoch 3/20\n",
      "1308/1308 [==============================] - 1s 1ms/step - loss: 0.0278\n",
      "Epoch 4/20\n",
      "1308/1308 [==============================] - 1s 1ms/step - loss: 0.0204\n",
      "Epoch 5/20\n",
      "1308/1308 [==============================] - 1s 947us/step - loss: 0.0154\n",
      "Epoch 6/20\n",
      "1308/1308 [==============================] - 1s 944us/step - loss: 0.0145\n",
      "Epoch 7/20\n",
      "1308/1308 [==============================] - 1s 968us/step - loss: 0.0120\n",
      "Epoch 8/20\n",
      "1308/1308 [==============================] - 1s 1ms/step - loss: 0.0130\n",
      "Epoch 9/20\n",
      "1308/1308 [==============================] - 1s 1ms/step - loss: 0.0092\n",
      "Epoch 10/20\n",
      "1308/1308 [==============================] - 1s 1ms/step - loss: 0.0088\n",
      "Epoch 11/20\n",
      "1308/1308 [==============================] - 1s 1ms/step - loss: 0.0084\n",
      "Epoch 12/20\n",
      "1308/1308 [==============================] - 1s 1ms/step - loss: 0.0093\n",
      "Epoch 13/20\n",
      "1308/1308 [==============================] - 1s 1ms/step - loss: 0.0085\n",
      "Epoch 14/20\n",
      "1308/1308 [==============================] - 1s 1ms/step - loss: 0.0072\n",
      "Epoch 15/20\n",
      "1308/1308 [==============================] - 1s 1ms/step - loss: 0.0085\n",
      "Epoch 16/20\n",
      "1308/1308 [==============================] - 1s 988us/step - loss: 0.0054\n",
      "Epoch 17/20\n",
      "1308/1308 [==============================] - 1s 950us/step - loss: 0.0058\n",
      "Epoch 18/20\n",
      "1308/1308 [==============================] - 1s 960us/step - loss: 0.0053\n",
      "Epoch 19/20\n",
      "1308/1308 [==============================] - 1s 1ms/step - loss: 0.0045\n",
      "Epoch 20/20\n",
      "1308/1308 [==============================] - 1s 1ms/step - loss: 0.0053\n"
     ]
    }
   ],
   "source": [
    "# Train model.\n",
    "\n",
    "es=keras.callbacks.EarlyStopping(monitor='val_loss',\n",
    "                              min_delta=0,\n",
    "                              patience=2,\n",
    "                              verbose=1, mode='auto')\n",
    "\n",
    "NUM_EPOCHS = 20\n",
    "BATCH_SIZE = 10\n",
    "history_1 = model_1.fit([X_0, Y_0], y_0,  \n",
    "                    batch_size = BATCH_SIZE, epochs = NUM_EPOCHS, verbose = 1)"
   ]
  },
  {
   "cell_type": "code",
   "execution_count": 18,
   "metadata": {},
   "outputs": [
    {
     "ename": "KeyError",
     "evalue": "'val_loss'",
     "output_type": "error",
     "traceback": [
      "\u001b[1;31m---------------------------------------------------------------------------\u001b[0m",
      "\u001b[1;31mKeyError\u001b[0m                                  Traceback (most recent call last)",
      "Cell \u001b[1;32mIn[18], line 3\u001b[0m\n\u001b[0;32m      1\u001b[0m \u001b[38;5;66;03m# summarize history for loss\u001b[39;00m\n\u001b[0;32m      2\u001b[0m plt\u001b[38;5;241m.\u001b[39mplot(history_1\u001b[38;5;241m.\u001b[39mhistory[\u001b[38;5;124m'\u001b[39m\u001b[38;5;124mloss\u001b[39m\u001b[38;5;124m'\u001b[39m])\n\u001b[1;32m----> 3\u001b[0m plt\u001b[38;5;241m.\u001b[39mplot(\u001b[43mhistory_1\u001b[49m\u001b[38;5;241;43m.\u001b[39;49m\u001b[43mhistory\u001b[49m\u001b[43m[\u001b[49m\u001b[38;5;124;43m'\u001b[39;49m\u001b[38;5;124;43mval_loss\u001b[39;49m\u001b[38;5;124;43m'\u001b[39;49m\u001b[43m]\u001b[49m)\n\u001b[0;32m      4\u001b[0m plt\u001b[38;5;241m.\u001b[39mtitle(\u001b[38;5;124m'\u001b[39m\u001b[38;5;124mmodel loss\u001b[39m\u001b[38;5;124m'\u001b[39m)\n\u001b[0;32m      5\u001b[0m plt\u001b[38;5;241m.\u001b[39mylabel(\u001b[38;5;124m'\u001b[39m\u001b[38;5;124mloss\u001b[39m\u001b[38;5;124m'\u001b[39m)\n",
      "\u001b[1;31mKeyError\u001b[0m: 'val_loss'"
     ]
    },
    {
     "data": {
      "image/png": "[encoded data removed]",
      "text/plain": [
       "<Figure size 640x480 with 1 Axes>"
      ]
     },
     "metadata": {},
     "output_type": "display_data"
    }
   ],
   "source": [
    "# summarize history for loss\n",
    "plt.plot(history_1.history['loss'])\n",
    "plt.plot(history_1.history['val_loss'])\n",
    "plt.title('model loss')\n",
    "plt.ylabel('loss')\n",
    "plt.xlabel('epoch')\n",
    "plt.legend(['train', 'test'], loc='upper right')\n",
    "plt.show()"
   ]
  },
  {
   "cell_type": "code",
   "execution_count": 19,
   "metadata": {},
   "outputs": [
    {
     "name": "stdout",
     "output_type": "stream",
     "text": [
      "Epoch 1/20\n",
      "1386/1386 [==============================] - 2s 959us/step - loss: 0.1212\n",
      "Epoch 2/20\n",
      "1386/1386 [==============================] - 1s 935us/step - loss: 0.0364\n",
      "Epoch 3/20\n",
      "1386/1386 [==============================] - 1s 928us/step - loss: 0.0199\n",
      "Epoch 4/20\n",
      "1386/1386 [==============================] - 1s 942us/step - loss: 0.0190\n",
      "Epoch 5/20\n",
      "1386/1386 [==============================] - 1s 944us/step - loss: 0.0157\n",
      "Epoch 6/20\n",
      "1386/1386 [==============================] - 1s 943us/step - loss: 0.0138\n",
      "Epoch 7/20\n",
      "1386/1386 [==============================] - 1s 941us/step - loss: 0.0125\n",
      "Epoch 8/20\n",
      "1386/1386 [==============================] - 1s 954us/step - loss: 0.0119\n",
      "Epoch 9/20\n",
      "1386/1386 [==============================] - 1s 941us/step - loss: 0.0126\n",
      "Epoch 10/20\n",
      "1386/1386 [==============================] - 1s 972us/step - loss: 0.0082\n",
      "Epoch 11/20\n",
      "1386/1386 [==============================] - 1s 964us/step - loss: 0.0079\n",
      "Epoch 12/20\n",
      "1386/1386 [==============================] - 1s 935us/step - loss: 0.0094\n",
      "Epoch 13/20\n",
      "1386/1386 [==============================] - 1s 946us/step - loss: 0.0079\n",
      "Epoch 14/20\n",
      "1386/1386 [==============================] - 1s 936us/step - loss: 0.0113\n",
      "Epoch 15/20\n",
      "1386/1386 [==============================] - 1s 940us/step - loss: 0.0090\n",
      "Epoch 16/20\n",
      "1386/1386 [==============================] - 1s 925us/step - loss: 0.0072\n",
      "Epoch 17/20\n",
      "1386/1386 [==============================] - 1s 948us/step - loss: 0.0058\n",
      "Epoch 18/20\n",
      "1386/1386 [==============================] - 1s 954us/step - loss: 0.0039\n",
      "Epoch 19/20\n",
      "1386/1386 [==============================] - 1s 945us/step - loss: 0.0057\n",
      "Epoch 20/20\n",
      "1386/1386 [==============================] - 1s 938us/step - loss: 0.0069\n",
      "Epoch 1/20\n",
      "1308/1308 [==============================] - 2s 950us/step - loss: 0.1395\n",
      "Epoch 2/20\n",
      "1308/1308 [==============================] - 1s 940us/step - loss: 0.0494\n",
      "Epoch 3/20\n",
      "1308/1308 [==============================] - 2s 1ms/step - loss: 0.0331\n",
      "Epoch 4/20\n",
      "1308/1308 [==============================] - 2s 1ms/step - loss: 0.0257\n",
      "Epoch 5/20\n",
      "1308/1308 [==============================] - 2s 1ms/step - loss: 0.0247\n",
      "Epoch 6/20\n",
      "1308/1308 [==============================] - 2s 1ms/step - loss: 0.0212\n",
      "Epoch 7/20\n",
      "1308/1308 [==============================] - 2s 1ms/step - loss: 0.0184\n",
      "Epoch 8/20\n",
      "1308/1308 [==============================] - 2s 1ms/step - loss: 0.0192\n",
      "Epoch 9/20\n",
      "1308/1308 [==============================] - 2s 1ms/step - loss: 0.0205\n",
      "Epoch 10/20\n",
      "1308/1308 [==============================] - 2s 1ms/step - loss: 0.0156\n",
      "Epoch 11/20\n",
      "1308/1308 [==============================] - 2s 1ms/step - loss: 0.0158\n",
      "Epoch 12/20\n",
      "1308/1308 [==============================] - 2s 1ms/step - loss: 0.0140\n",
      "Epoch 13/20\n",
      "1308/1308 [==============================] - 2s 1ms/step - loss: 0.0140\n",
      "Epoch 14/20\n",
      "1308/1308 [==============================] - 2s 1ms/step - loss: 0.0136\n",
      "Epoch 15/20\n",
      "1308/1308 [==============================] - 2s 1ms/step - loss: 0.0170\n",
      "Epoch 16/20\n",
      "1308/1308 [==============================] - 2s 1ms/step - loss: 0.0132\n",
      "Epoch 17/20\n",
      "1308/1308 [==============================] - 2s 1ms/step - loss: 0.0131\n",
      "Epoch 18/20\n",
      "1308/1308 [==============================] - 2s 1ms/step - loss: 0.0110\n",
      "Epoch 19/20\n",
      "1308/1308 [==============================] - 2s 1ms/step - loss: 0.0126\n",
      "Epoch 20/20\n",
      "1308/1308 [==============================] - 2s 1ms/step - loss: 0.0112\n"
     ]
    }
   ],
   "source": [
    "history_2 = model_2.fit([X_1, Y_1], y_1,  \n",
    "                    batch_size = BATCH_SIZE, epochs = NUM_EPOCHS, verbose = 1)\n",
    "history_3 = model_3.fit([X_2, Y_2], y_2,  \n",
    "                    batch_size = BATCH_SIZE, epochs = NUM_EPOCHS, verbose = 1)"
   ]
  },
  {
   "cell_type": "code",
   "execution_count": 20,
   "metadata": {},
   "outputs": [
    {
     "data": {
      "image/png": "[encoded data removed]",
      "text/plain": [
       "<Figure size 640x480 with 1 Axes>"
      ]
     },
     "metadata": {},
     "output_type": "display_data"
    }
   ],
   "source": [
    "# summarize history for loss\n",
    "plt.plot(history_2.history['loss'])\n",
    "plt.title('model loss')\n",
    "plt.ylabel('loss')\n",
    "plt.xlabel('epoch')\n",
    "plt.legend(['train', 'test'], loc='upper right')\n",
    "plt.show()"
   ]
  },
  {
   "cell_type": "code",
   "execution_count": 21,
   "metadata": {},
   "outputs": [
    {
     "data": {
      "image/png": "[encoded data removed]",
      "text/plain": [
       "<Figure size 640x480 with 1 Axes>"
      ]
     },
     "metadata": {},
     "output_type": "display_data"
    }
   ],
   "source": [
    "# summarize history for loss\n",
    "plt.plot(history_3.history['loss'])\n",
    "plt.title('model loss')\n",
    "plt.ylabel('loss')\n",
    "plt.xlabel('epoch')\n",
    "plt.legend(['train', 'test'], loc='upper right')\n",
    "plt.show()"
   ]
  },
  {
   "cell_type": "code",
   "execution_count": 22,
   "metadata": {},
   "outputs": [
    {
     "name": "stdout",
     "output_type": "stream",
     "text": [
      "Model: \"model\"\n",
      "__________________________________________________________________________________________________\n",
      " Layer (type)                Output Shape                 Param #   Connected to                  \n",
      "==================================================================================================\n",
      " input_1 (InputLayer)        [(None, 10)]                 0         []                            \n",
      "                                                                                                  \n",
      " input_2 (InputLayer)        [(None, 10)]                 0         []                            \n",
      "                                                                                                  \n",
      " sequential (Sequential)     (None, 1)                    2927      ['input_1[0][0]',             \n",
      "                                                                     'input_2[0][0]']             \n",
      "                                                                                                  \n",
      " subtract (Subtract)         (None, 1)                    0         ['sequential[0][0]',          \n",
      "                                                                     'sequential[1][0]']          \n",
      "                                                                                                  \n",
      " activation (Activation)     (None, 1)                    0         ['subtract[0][0]']            \n",
      "                                                                                                  \n",
      "==================================================================================================\n",
      "Total params: 2927 (11.43 KB)\n",
      "Trainable params: 2927 (11.43 KB)\n",
      "Non-trainable params: 0 (0.00 Byte)\n",
      "__________________________________________________________________________________________________\n"
     ]
    }
   ],
   "source": [
    "model_1.summary()"
   ]
  },
  {
   "cell_type": "code",
   "execution_count": 25,
   "metadata": {},
   "outputs": [
    {
     "ename": "ValueError",
     "evalue": "in user code:\n\n    File \"c:\\Users\\romai\\Documents\\Centrale\\Système de décision\\Projet\\cs-sdp-2023-24\\.venv\\Lib\\site-packages\\keras\\src\\engine\\training.py\", line 2440, in predict_function  *\n        return step_function(self, iterator)\n    File \"c:\\Users\\romai\\Documents\\Centrale\\Système de décision\\Projet\\cs-sdp-2023-24\\.venv\\Lib\\site-packages\\keras\\src\\engine\\training.py\", line 2425, in step_function  **\n        outputs = model.distribute_strategy.run(run_step, args=(data,))\n    File \"c:\\Users\\romai\\Documents\\Centrale\\Système de décision\\Projet\\cs-sdp-2023-24\\.venv\\Lib\\site-packages\\keras\\src\\engine\\training.py\", line 2413, in run_step  **\n        outputs = model.predict_step(data)\n    File \"c:\\Users\\romai\\Documents\\Centrale\\Système de décision\\Projet\\cs-sdp-2023-24\\.venv\\Lib\\site-packages\\keras\\src\\engine\\training.py\", line 2381, in predict_step\n        return self(x, training=False)\n    File \"c:\\Users\\romai\\Documents\\Centrale\\Système de décision\\Projet\\cs-sdp-2023-24\\.venv\\Lib\\site-packages\\keras\\src\\utils\\traceback_utils.py\", line 70, in error_handler\n        raise e.with_traceback(filtered_tb) from None\n    File \"c:\\Users\\romai\\Documents\\Centrale\\Système de décision\\Projet\\cs-sdp-2023-24\\.venv\\Lib\\site-packages\\keras\\src\\engine\\input_spec.py\", line 253, in assert_input_compatibility\n        raise ValueError(\n\n    ValueError: Exception encountered when calling layer 'sequential' (type Sequential).\n    \n    Input 0 of layer \"dense\" is incompatible with the layer: expected min_ndim=2, found ndim=1. Full shape received: (None,)\n    \n    Call arguments received by layer 'sequential' (type Sequential):\n      • inputs=tf.Tensor(shape=(None,), dtype=float32)\n      • training=False\n      • mask=None\n",
     "output_type": "error",
     "traceback": [
      "\u001b[1;31m---------------------------------------------------------------------------\u001b[0m",
      "\u001b[1;31mValueError\u001b[0m                                Traceback (most recent call last)",
      "Cell \u001b[1;32mIn[25], line 3\u001b[0m\n\u001b[0;32m      1\u001b[0m score\u001b[38;5;241m=\u001b[39m[]\n\u001b[0;32m      2\u001b[0m \u001b[38;5;28;01mfor\u001b[39;00m i \u001b[38;5;129;01min\u001b[39;00m \u001b[38;5;28mrange\u001b[39m(\u001b[38;5;28mlen\u001b[39m(X)):\n\u001b[1;32m----> 3\u001b[0m     a\u001b[38;5;241m=\u001b[39m\u001b[43mbase_network_1\u001b[49m\u001b[38;5;241;43m.\u001b[39;49m\u001b[43mpredict\u001b[49m\u001b[43m(\u001b[49m\u001b[43mX\u001b[49m\u001b[43m[\u001b[49m\u001b[43mi\u001b[49m\u001b[43m]\u001b[49m\u001b[43m)\u001b[49m\u001b[38;5;241m-\u001b[39m base_network_1\u001b[38;5;241m.\u001b[39mpredict(Y[i])\n\u001b[0;32m      4\u001b[0m     b\u001b[38;5;241m=\u001b[39mbase_network_2\u001b[38;5;241m.\u001b[39mpredict(X[i])\u001b[38;5;241m-\u001b[39m base_network_2\u001b[38;5;241m.\u001b[39mpredict(Y[i])\n\u001b[0;32m      5\u001b[0m     c\u001b[38;5;241m=\u001b[39mbase_network_3\u001b[38;5;241m.\u001b[39mpredict(X[i])\u001b[38;5;241m-\u001b[39m base_network_3\u001b[38;5;241m.\u001b[39mpredict(Y[i])\n",
      "File \u001b[1;32mc:\\Users\\romai\\Documents\\Centrale\\Système de décision\\Projet\\cs-sdp-2023-24\\.venv\\Lib\\site-packages\\keras\\src\\utils\\traceback_utils.py:70\u001b[0m, in \u001b[0;36mfilter_traceback.<locals>.error_handler\u001b[1;34m(*args, **kwargs)\u001b[0m\n\u001b[0;32m     67\u001b[0m     filtered_tb \u001b[38;5;241m=\u001b[39m _process_traceback_frames(e\u001b[38;5;241m.\u001b[39m__traceback__)\n\u001b[0;32m     68\u001b[0m     \u001b[38;5;66;03m# To get the full stack trace, call:\u001b[39;00m\n\u001b[0;32m     69\u001b[0m     \u001b[38;5;66;03m# `tf.debugging.disable_traceback_filtering()`\u001b[39;00m\n\u001b[1;32m---> 70\u001b[0m     \u001b[38;5;28;01mraise\u001b[39;00m e\u001b[38;5;241m.\u001b[39mwith_traceback(filtered_tb) \u001b[38;5;28;01mfrom\u001b[39;00m \u001b[38;5;28;01mNone\u001b[39;00m\n\u001b[0;32m     71\u001b[0m \u001b[38;5;28;01mfinally\u001b[39;00m:\n\u001b[0;32m     72\u001b[0m     \u001b[38;5;28;01mdel\u001b[39;00m filtered_tb\n",
      "File \u001b[1;32m~\\AppData\\Local\\Temp\\__autograph_generated_filei7bxdrpf.py:15\u001b[0m, in \u001b[0;36mouter_factory.<locals>.inner_factory.<locals>.tf__predict_function\u001b[1;34m(iterator)\u001b[0m\n\u001b[0;32m     13\u001b[0m \u001b[38;5;28;01mtry\u001b[39;00m:\n\u001b[0;32m     14\u001b[0m     do_return \u001b[38;5;241m=\u001b[39m \u001b[38;5;28;01mTrue\u001b[39;00m\n\u001b[1;32m---> 15\u001b[0m     retval_ \u001b[38;5;241m=\u001b[39m ag__\u001b[38;5;241m.\u001b[39mconverted_call(ag__\u001b[38;5;241m.\u001b[39mld(step_function), (ag__\u001b[38;5;241m.\u001b[39mld(\u001b[38;5;28mself\u001b[39m), ag__\u001b[38;5;241m.\u001b[39mld(iterator)), \u001b[38;5;28;01mNone\u001b[39;00m, fscope)\n\u001b[0;32m     16\u001b[0m \u001b[38;5;28;01mexcept\u001b[39;00m:\n\u001b[0;32m     17\u001b[0m     do_return \u001b[38;5;241m=\u001b[39m \u001b[38;5;28;01mFalse\u001b[39;00m\n",
      "\u001b[1;31mValueError\u001b[0m: in user code:\n\n    File \"c:\\Users\\romai\\Documents\\Centrale\\Système de décision\\Projet\\cs-sdp-2023-24\\.venv\\Lib\\site-packages\\keras\\src\\engine\\training.py\", line 2440, in predict_function  *\n        return step_function(self, iterator)\n    File \"c:\\Users\\romai\\Documents\\Centrale\\Système de décision\\Projet\\cs-sdp-2023-24\\.venv\\Lib\\site-packages\\keras\\src\\engine\\training.py\", line 2425, in step_function  **\n        outputs = model.distribute_strategy.run(run_step, args=(data,))\n    File \"c:\\Users\\romai\\Documents\\Centrale\\Système de décision\\Projet\\cs-sdp-2023-24\\.venv\\Lib\\site-packages\\keras\\src\\engine\\training.py\", line 2413, in run_step  **\n        outputs = model.predict_step(data)\n    File \"c:\\Users\\romai\\Documents\\Centrale\\Système de décision\\Projet\\cs-sdp-2023-24\\.venv\\Lib\\site-packages\\keras\\src\\engine\\training.py\", line 2381, in predict_step\n        return self(x, training=False)\n    File \"c:\\Users\\romai\\Documents\\Centrale\\Système de décision\\Projet\\cs-sdp-2023-24\\.venv\\Lib\\site-packages\\keras\\src\\utils\\traceback_utils.py\", line 70, in error_handler\n        raise e.with_traceback(filtered_tb) from None\n    File \"c:\\Users\\romai\\Documents\\Centrale\\Système de décision\\Projet\\cs-sdp-2023-24\\.venv\\Lib\\site-packages\\keras\\src\\engine\\input_spec.py\", line 253, in assert_input_compatibility\n        raise ValueError(\n\n    ValueError: Exception encountered when calling layer 'sequential' (type Sequential).\n    \n    Input 0 of layer \"dense\" is incompatible with the layer: expected min_ndim=2, found ndim=1. Full shape received: (None,)\n    \n    Call arguments received by layer 'sequential' (type Sequential):\n      • inputs=tf.Tensor(shape=(None,), dtype=float32)\n      • training=False\n      • mask=None\n"
     ]
    }
   ],
   "source": [
    "score=[]\n",
    "for i in range(len(X)):\n",
    "    a=base_network_1.predict(X[i])- base_network_1.predict(Y[i])\n",
    "    b=base_network_2.predict(X[i])- base_network_2.predict(Y[i])\n",
    "    c=base_network_3.predict(X[i])- base_network_3.predict(Y[i])\n",
    "    scores=[]\n",
    "    if max(a,b,c)==a:\n",
    "        score.append(0)\n",
    "    if max(a,b,c)==a:\n",
    "        score.append(1)\n",
    "    if max(a,b,c)==a:\n",
    "        score.append(2)\n"
   ]
  },
  {
   "cell_type": "code",
   "execution_count": null,
   "metadata": {},
   "outputs": [],
   "source": []
  }
 ],
 "metadata": {
  "kernelspec": {
   "display_name": "xaiboost",
   "language": "python",
   "name": "python3"
  },
  "language_info": {
   "codemirror_mode": {
    "name": "ipython",
    "version": 3
   },
   "file_extension": ".py",
   "mimetype": "text/x-python",
   "name": "python",
   "nbconvert_exporter": "python",
   "pygments_lexer": "ipython3",
   "version": "3.11.8"
  }
 },
 "nbformat": 4,
 "nbformat_minor": 2
}
