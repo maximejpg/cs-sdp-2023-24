{
 "cells": [
  {
   "cell_type": "code",
   "execution_count": 81,
   "metadata": {},
   "outputs": [],
   "source": [
    "import os\n",
    "import sys\n",
    "\n",
    "sys.path.append(\"../python\")\n",
    "\n",
    "import matplotlib.pyplot as plt\n",
    "import numpy as np"
   ]
  },
  {
   "cell_type": "code",
   "execution_count": 82,
   "metadata": {},
   "outputs": [],
   "source": [
    "from data import Dataloader\n",
    "import metrics"
   ]
  },
  {
   "cell_type": "code",
   "execution_count": 83,
   "metadata": {},
   "outputs": [],
   "source": [
    "# Loading the data\n",
    "data_loader = Dataloader(\"../data/dataset_10\") # Specify path to the dataset you want to load\n",
    "X, Y= data_loader.load()\n"
   ]
  },
  {
   "cell_type": "code",
   "execution_count": 84,
   "metadata": {},
   "outputs": [],
   "source": [
    "df= X-Y\n",
    "Z=np.load(\"../data/dataset_10/Z.npy\")"
   ]
  },
  {
   "cell_type": "code",
   "execution_count": 85,
   "metadata": {},
   "outputs": [
    {
     "name": "stdout",
     "output_type": "stream",
     "text": [
      "Adjusted Rand Index: 0.4097574644119175\n"
     ]
    }
   ],
   "source": [
    "from sklearn.cluster import KMeans\n",
    "from sklearn.metrics import adjusted_rand_score\n",
    "\n",
    "# Assuming you have your data as 'data' and ground truth labels as 'ground_truth_labels'\n",
    "\n",
    "# Create KMeans instance for 3 clusters\n",
    "kmeans = KMeans(n_clusters=3)\n",
    "\n",
    "# Fit the model\n",
    "kmeans.fit(df)\n",
    "\n",
    "# Predict the clusters\n",
    "predicted_labels = kmeans.labels_\n",
    "\n",
    "# Evaluate the performance\n",
    "score = adjusted_rand_score(Z, predicted_labels)\n",
    "print(\"Adjusted Rand Index:\", score)\n"
   ]
  },
  {
   "cell_type": "code",
   "execution_count": 86,
   "metadata": {},
   "outputs": [],
   "source": [
    "# from sklearn.cluster import SpectralClustering\n",
    "# from sklearn.metrics import adjusted_rand_score\n",
    "\n",
    "# # Assuming your data is in 'data' and ground truth labels in 'ground_truth_labels'\n",
    "\n",
    "# # Create SpectralClustering instance\n",
    "# spectral = SpectralClustering(n_clusters=3, affinity='nearest_neighbors')\n",
    "\n",
    "# # Fit the model\n",
    "# spectral.fit(df)\n",
    "\n",
    "# # Predict the clusters\n",
    "# predicted_labels = spectral.labels_\n",
    "\n",
    "# # Evaluate the performance\n",
    "# score = adjusted_rand_score(Z, predicted_labels)\n",
    "# print(\"Adjusted Rand Index:\", score)"
   ]
  },
  {
   "cell_type": "code",
   "execution_count": 87,
   "metadata": {},
   "outputs": [
    {
     "name": "stdout",
     "output_type": "stream",
     "text": [
      "[0.13155  0.102793 0.266773 0.273273 0.482818 0.598529 0.443253 0.079392\n",
      " 0.696425 0.205184]\n"
     ]
    }
   ],
   "source": [
    "print(X[0])"
   ]
  },
  {
   "cell_type": "code",
   "execution_count": 88,
   "metadata": {},
   "outputs": [],
   "source": [
    "import numpy as np\n",
    "\n",
    "def split_dataset(X, split_table):\n",
    "    dataset_0 = []\n",
    "    dataset_1 = []\n",
    "    dataset_2 = []\n",
    "\n",
    "    for i in range(len(split_table)):\n",
    "        if split_table[i]==0:\n",
    "            dataset_0.append(X[i])\n",
    "        if split_table[i]==1:\n",
    "            dataset_1.append(X[i])\n",
    "        if split_table[i]==2:\n",
    "            dataset_2.append(X[i])\n",
    "\n",
    "    # Return the datasets as tuples\n",
    "    return np.array(dataset_0),np.array(dataset_1), np.array(dataset_2)\n",
    "\n",
    "# Example usage\n",
    "X_0, X_1, X_2 = split_dataset(X, predicted_labels)\n",
    "\n",
    "Y_0, Y_1, Y_2 = split_dataset(Y, predicted_labels)\n",
    "\n",
    "# X_0 = list(list(array) for array in X_0)\n",
    "# X_1 = list(list(array) for array in X_1)\n",
    "# X_2 = list(list(array) for array in X_2)\n",
    "# Y_0 = list(list(array) for array in Y_0)\n",
    "# Y_1 = list(list(array) for array in Y_1)\n",
    "# Y_2 = list(list(array) for array in Y_2)\n",
    "\n"
   ]
  },
  {
   "cell_type": "code",
   "execution_count": 89,
   "metadata": {},
   "outputs": [
    {
     "name": "stdout",
     "output_type": "stream",
     "text": [
      "[1 2 0 ... 1 1 1]\n"
     ]
    }
   ],
   "source": [
    "print(predicted_labels)"
   ]
  },
  {
   "cell_type": "code",
   "execution_count": 90,
   "metadata": {},
   "outputs": [
    {
     "name": "stdout",
     "output_type": "stream",
     "text": [
      "%pylab is deprecated, use %matplotlib inline and import the required libraries.\n",
      "Populating the interactive namespace from numpy and matplotlib\n"
     ]
    }
   ],
   "source": [
    "import numpy as np\n",
    "\n",
    "import keras\n",
    "from keras import backend\n",
    "from keras.layers import Activation, Add, Dense, Input, Lambda, Dropout, Subtract\n",
    "from keras.models import Model, Sequential\n",
    "from keras.utils import plot_model\n",
    "%pylab inline\n",
    "\n",
    "INPUT_DIM = 10"
   ]
  },
  {
   "cell_type": "code",
   "execution_count": 91,
   "metadata": {},
   "outputs": [],
   "source": [
    "def create_base_network(input_dim):\n",
    "    '''Base network to be shared (eq. to feature extraction).\n",
    "    '''\n",
    "    seq = Sequential()\n",
    "    seq.add(Dense(INPUT_DIM, input_shape=(input_dim,), activation='relu'))\n",
    "    seq.add(Dropout(0.1))\n",
    "    seq.add(Dense(64, activation='relu'))\n",
    "    seq.add(Dropout(0.1))\n",
    "    seq.add(Dense(32, activation='relu'))\n",
    "    seq.add(Dense(1))\n",
    "    return seq"
   ]
  },
  {
   "cell_type": "code",
   "execution_count": 92,
   "metadata": {},
   "outputs": [],
   "source": [
    "def create_meta_network(input_dim, base_network):\n",
    "    input_a = Input(shape=(input_dim,))\n",
    "    input_b = Input(shape=(input_dim,))\n",
    "\n",
    "    rel_score = base_network(input_a)\n",
    "    irr_score = base_network(input_b)\n",
    "\n",
    "    # subtract scores\n",
    "    diff = Subtract()([rel_score, irr_score])\n",
    "\n",
    "    # Pass difference through sigmoid function.\n",
    "    prob = Activation(\"sigmoid\")(diff)\n",
    "\n",
    "    # Build model.\n",
    "    model = Model(inputs = [input_a, input_b], outputs = prob)\n",
    "    model.compile(optimizer = \"adam\", loss = \"binary_crossentropy\")\n",
    "\n",
    "    return model"
   ]
  },
  {
   "cell_type": "code",
   "execution_count": 93,
   "metadata": {},
   "outputs": [
    {
     "name": "stdout",
     "output_type": "stream",
     "text": [
      "Model: \"model_15\"\n",
      "__________________________________________________________________________________________________\n",
      " Layer (type)                   Output Shape         Param #     Connected to                     \n",
      "==================================================================================================\n",
      " input_31 (InputLayer)          [(None, 10)]         0           []                               \n",
      "                                                                                                  \n",
      " input_32 (InputLayer)          [(None, 10)]         0           []                               \n",
      "                                                                                                  \n",
      " sequential_15 (Sequential)     (None, 1)            2927        ['input_31[0][0]',               \n",
      "                                                                  'input_32[0][0]']               \n",
      "                                                                                                  \n",
      " subtract_15 (Subtract)         (None, 1)            0           ['sequential_15[0][0]',          \n",
      "                                                                  'sequential_15[1][0]']          \n",
      "                                                                                                  \n",
      " activation_15 (Activation)     (None, 1)            0           ['subtract_15[0][0]']            \n",
      "                                                                                                  \n",
      "==================================================================================================\n",
      "Total params: 2,927\n",
      "Trainable params: 2,927\n",
      "Non-trainable params: 0\n",
      "__________________________________________________________________________________________________\n",
      "Model: \"model_16\"\n",
      "__________________________________________________________________________________________________\n",
      " Layer (type)                   Output Shape         Param #     Connected to                     \n",
      "==================================================================================================\n",
      " input_33 (InputLayer)          [(None, 10)]         0           []                               \n",
      "                                                                                                  \n",
      " input_34 (InputLayer)          [(None, 10)]         0           []                               \n",
      "                                                                                                  \n",
      " sequential_16 (Sequential)     (None, 1)            2927        ['input_33[0][0]',               \n",
      "                                                                  'input_34[0][0]']               \n",
      "                                                                                                  \n",
      " subtract_16 (Subtract)         (None, 1)            0           ['sequential_16[0][0]',          \n",
      "                                                                  'sequential_16[1][0]']          \n",
      "                                                                                                  \n",
      " activation_16 (Activation)     (None, 1)            0           ['subtract_16[0][0]']            \n",
      "                                                                                                  \n",
      "==================================================================================================\n",
      "Total params: 2,927\n",
      "Trainable params: 2,927\n",
      "Non-trainable params: 0\n",
      "__________________________________________________________________________________________________\n",
      "Model: \"model_17\"\n",
      "__________________________________________________________________________________________________\n",
      " Layer (type)                   Output Shape         Param #     Connected to                     \n",
      "==================================================================================================\n",
      " input_35 (InputLayer)          [(None, 10)]         0           []                               \n",
      "                                                                                                  \n",
      " input_36 (InputLayer)          [(None, 10)]         0           []                               \n",
      "                                                                                                  \n",
      " sequential_17 (Sequential)     (None, 1)            2927        ['input_35[0][0]',               \n",
      "                                                                  'input_36[0][0]']               \n",
      "                                                                                                  \n",
      " subtract_17 (Subtract)         (None, 1)            0           ['sequential_17[0][0]',          \n",
      "                                                                  'sequential_17[1][0]']          \n",
      "                                                                                                  \n",
      " activation_17 (Activation)     (None, 1)            0           ['subtract_17[0][0]']            \n",
      "                                                                                                  \n",
      "==================================================================================================\n",
      "Total params: 2,927\n",
      "Trainable params: 2,927\n",
      "Non-trainable params: 0\n",
      "__________________________________________________________________________________________________\n"
     ]
    }
   ],
   "source": [
    "base_network_1 = create_base_network(INPUT_DIM)\n",
    "model_1 = create_meta_network(INPUT_DIM, base_network_1)\n",
    "model_1.summary()\n",
    "\n",
    "base_network_2 = create_base_network(INPUT_DIM)\n",
    "model_2 = create_meta_network(INPUT_DIM, base_network_2)\n",
    "model_2.summary()\n",
    "\n",
    "base_network_3 = create_base_network(INPUT_DIM)\n",
    "model_3 = create_meta_network(INPUT_DIM, base_network_3)\n",
    "model_3.summary()"
   ]
  },
  {
   "cell_type": "code",
   "execution_count": 94,
   "metadata": {},
   "outputs": [],
   "source": [
    "y_0 = np.ones((len(X_0), 1))\n",
    "y_1 = np.ones((len(X_1), 1))\n",
    "y_2 = np.ones((len(X_2), 1))"
   ]
  },
  {
   "cell_type": "code",
   "execution_count": 95,
   "metadata": {},
   "outputs": [
    {
     "name": "stdout",
     "output_type": "stream",
     "text": [
      "[[0.063892 0.911273 0.806567 ... 0.768162 0.062565 0.7225  ]\n",
      " [0.734527 0.932119 0.946412 ... 0.615256 0.524477 0.334976]\n",
      " [0.618549 0.19205  0.200985 ... 0.742065 0.833518 0.413484]\n",
      " ...\n",
      " [0.503326 0.26748  0.099818 ... 0.694553 0.606376 0.95908 ]\n",
      " [0.61064  0.901132 0.162891 ... 0.972982 0.57055  0.809237]\n",
      " [0.486078 0.312517 0.91313  ... 0.390122 0.384981 0.983046]]\n",
      "[[0.98267  0.991958 0.785311 ... 0.852587 0.94458  0.06482 ]\n",
      " [0.977782 0.021238 0.771218 ... 0.219349 0.464368 0.056511]\n",
      " [0.757219 0.728129 0.282502 ... 0.526059 0.419308 0.728467]\n",
      " ...\n",
      " [0.218459 0.028237 0.843273 ... 0.281553 0.079757 0.913161]\n",
      " [0.824696 0.248319 0.016792 ... 0.401544 0.855044 0.58998 ]\n",
      " [0.433534 0.42741  0.980633 ... 0.927235 0.770221 0.527018]]\n",
      "[[1.]\n",
      " [1.]\n",
      " [1.]\n",
      " ...\n",
      " [1.]\n",
      " [1.]\n",
      " [1.]]\n"
     ]
    }
   ],
   "source": [
    "print(X_0)\n",
    "print(Y_0)\n",
    "print(y_0)"
   ]
  },
  {
   "cell_type": "code",
   "execution_count": 98,
   "metadata": {},
   "outputs": [
    {
     "name": "stdout",
     "output_type": "stream",
     "text": [
      "Epoch 1/20\n",
      "   1/1306 [..............................] - ETA: 6s - loss: 2.4438e-07"
     ]
    },
    {
     "name": "stdout",
     "output_type": "stream",
     "text": [
      "1306/1306 [==============================] - 2s 1ms/step - loss: 0.0038\n",
      "Epoch 2/20\n",
      "1306/1306 [==============================] - 2s 2ms/step - loss: 0.0047\n",
      "Epoch 3/20\n",
      "1306/1306 [==============================] - 2s 2ms/step - loss: 0.0047\n",
      "Epoch 4/20\n",
      "1306/1306 [==============================] - 2s 2ms/step - loss: 0.0054\n",
      "Epoch 5/20\n",
      "1306/1306 [==============================] - 3s 2ms/step - loss: 0.0033\n",
      "Epoch 6/20\n",
      "1306/1306 [==============================] - 3s 2ms/step - loss: 0.0036\n",
      "Epoch 7/20\n",
      "1306/1306 [==============================] - 2s 2ms/step - loss: 0.0043\n",
      "Epoch 8/20\n",
      "1306/1306 [==============================] - 3s 2ms/step - loss: 0.0032\n",
      "Epoch 9/20\n",
      "1306/1306 [==============================] - 2s 2ms/step - loss: 0.0044\n",
      "Epoch 10/20\n",
      "1306/1306 [==============================] - 2s 2ms/step - loss: 0.0027\n",
      "Epoch 11/20\n",
      "1306/1306 [==============================] - 2s 2ms/step - loss: 0.0018\n",
      "Epoch 12/20\n",
      "1306/1306 [==============================] - 2s 2ms/step - loss: 0.0033\n",
      "Epoch 13/20\n",
      "1306/1306 [==============================] - 2s 2ms/step - loss: 0.0051\n",
      "Epoch 14/20\n",
      "1306/1306 [==============================] - 3s 2ms/step - loss: 0.0024\n",
      "Epoch 15/20\n",
      "1306/1306 [==============================] - 2s 2ms/step - loss: 0.0060\n",
      "Epoch 16/20\n",
      "1306/1306 [==============================] - 2s 2ms/step - loss: 0.0029\n",
      "Epoch 17/20\n",
      "1306/1306 [==============================] - 2s 2ms/step - loss: 0.0030\n",
      "Epoch 18/20\n",
      "1306/1306 [==============================] - 2s 2ms/step - loss: 0.0035\n",
      "Epoch 19/20\n",
      "1306/1306 [==============================] - 2s 2ms/step - loss: 0.0022\n",
      "Epoch 20/20\n",
      "1306/1306 [==============================] - 3s 2ms/step - loss: 0.0034\n"
     ]
    }
   ],
   "source": [
    "# Train model.\n",
    "\n",
    "es=keras.callbacks.EarlyStopping(monitor='val_loss',\n",
    "                              min_delta=0,\n",
    "                              patience=2,\n",
    "                              verbose=1, mode='auto')\n",
    "\n",
    "NUM_EPOCHS = 20\n",
    "BATCH_SIZE = 10\n",
    "history_1 = model_1.fit([X_0, Y_0], y_0,  \n",
    "                    batch_size = BATCH_SIZE, epochs = NUM_EPOCHS, verbose = 1)"
   ]
  },
  {
   "cell_type": "code",
   "execution_count": 99,
   "metadata": {},
   "outputs": [
    {
     "ename": "KeyError",
     "evalue": "'val_loss'",
     "output_type": "error",
     "traceback": [
      "\u001b[1;31m---------------------------------------------------------------------------\u001b[0m",
      "\u001b[1;31mKeyError\u001b[0m                                  Traceback (most recent call last)",
      "Cell \u001b[1;32mIn[99], line 3\u001b[0m\n\u001b[0;32m      1\u001b[0m \u001b[38;5;66;03m# summarize history for loss\u001b[39;00m\n\u001b[0;32m      2\u001b[0m plt\u001b[38;5;241m.\u001b[39mplot(history_1\u001b[38;5;241m.\u001b[39mhistory[\u001b[38;5;124m'\u001b[39m\u001b[38;5;124mloss\u001b[39m\u001b[38;5;124m'\u001b[39m])\n\u001b[1;32m----> 3\u001b[0m plt\u001b[38;5;241m.\u001b[39mplot(\u001b[43mhistory_1\u001b[49m\u001b[38;5;241;43m.\u001b[39;49m\u001b[43mhistory\u001b[49m\u001b[43m[\u001b[49m\u001b[38;5;124;43m'\u001b[39;49m\u001b[38;5;124;43mval_loss\u001b[39;49m\u001b[38;5;124;43m'\u001b[39;49m\u001b[43m]\u001b[49m)\n\u001b[0;32m      4\u001b[0m plt\u001b[38;5;241m.\u001b[39mtitle(\u001b[38;5;124m'\u001b[39m\u001b[38;5;124mmodel loss\u001b[39m\u001b[38;5;124m'\u001b[39m)\n\u001b[0;32m      5\u001b[0m plt\u001b[38;5;241m.\u001b[39mylabel(\u001b[38;5;124m'\u001b[39m\u001b[38;5;124mloss\u001b[39m\u001b[38;5;124m'\u001b[39m)\n",
      "\u001b[1;31mKeyError\u001b[0m: 'val_loss'"
     ]
    },
    {
     "data": {
      "image/png": "[encoded data removed]",
      "text/plain": [
       "<Figure size 640x480 with 1 Axes>"
      ]
     },
     "metadata": {},
     "output_type": "display_data"
    }
   ],
   "source": [
    "# summarize history for loss\n",
    "plt.plot(history_1.history['loss'])\n",
    "plt.plot(history_1.history['val_loss'])\n",
    "plt.title('model loss')\n",
    "plt.ylabel('loss')\n",
    "plt.xlabel('epoch')\n",
    "plt.legend(['train', 'test'], loc='upper right')\n",
    "plt.show()"
   ]
  },
  {
   "cell_type": "code",
   "execution_count": 100,
   "metadata": {},
   "outputs": [
    {
     "name": "stdout",
     "output_type": "stream",
     "text": [
      "Epoch 1/20\n",
      "1396/1396 [==============================] - 2s 1ms/step - loss: 0.1319\n",
      "Epoch 2/20\n",
      "1396/1396 [==============================] - 2s 1ms/step - loss: 0.0353\n",
      "Epoch 3/20\n",
      "1396/1396 [==============================] - 2s 1ms/step - loss: 0.0248\n",
      "Epoch 4/20\n",
      "1396/1396 [==============================] - 2s 1ms/step - loss: 0.0156\n",
      "Epoch 5/20\n",
      "1396/1396 [==============================] - 2s 1ms/step - loss: 0.0130\n",
      "Epoch 6/20\n",
      "1396/1396 [==============================] - 3s 2ms/step - loss: 0.0140\n",
      "Epoch 7/20\n",
      "1396/1396 [==============================] - 3s 2ms/step - loss: 0.0105\n",
      "Epoch 8/20\n",
      "1396/1396 [==============================] - 3s 2ms/step - loss: 0.0105\n",
      "Epoch 9/20\n",
      "1396/1396 [==============================] - 3s 2ms/step - loss: 0.0076\n",
      "Epoch 10/20\n",
      "1396/1396 [==============================] - 3s 2ms/step - loss: 0.0083\n",
      "Epoch 11/20\n",
      "1396/1396 [==============================] - 3s 2ms/step - loss: 0.0092\n",
      "Epoch 12/20\n",
      "1396/1396 [==============================] - 3s 2ms/step - loss: 0.0072\n",
      "Epoch 13/20\n",
      "1396/1396 [==============================] - 3s 2ms/step - loss: 0.0087\n",
      "Epoch 14/20\n",
      "1396/1396 [==============================] - 3s 2ms/step - loss: 0.0067\n",
      "Epoch 15/20\n",
      "1396/1396 [==============================] - 3s 2ms/step - loss: 0.0058\n",
      "Epoch 16/20\n",
      "1396/1396 [==============================] - 3s 2ms/step - loss: 0.0073\n",
      "Epoch 17/20\n",
      "1396/1396 [==============================] - 3s 2ms/step - loss: 0.0071\n",
      "Epoch 18/20\n",
      "1396/1396 [==============================] - 3s 2ms/step - loss: 0.0059\n",
      "Epoch 19/20\n",
      "1396/1396 [==============================] - 3s 2ms/step - loss: 0.0047\n",
      "Epoch 20/20\n",
      "1396/1396 [==============================] - 3s 2ms/step - loss: 0.0058\n",
      "Epoch 1/20\n",
      "1300/1300 [==============================] - 3s 2ms/step - loss: 0.1460\n",
      "Epoch 2/20\n",
      "1300/1300 [==============================] - 2s 2ms/step - loss: 0.0494\n",
      "Epoch 3/20\n",
      "1300/1300 [==============================] - 2s 2ms/step - loss: 0.0346\n",
      "Epoch 4/20\n",
      "1300/1300 [==============================] - 2s 2ms/step - loss: 0.0252\n",
      "Epoch 5/20\n",
      "1300/1300 [==============================] - 2s 2ms/step - loss: 0.0231\n",
      "Epoch 6/20\n",
      "1300/1300 [==============================] - 2s 2ms/step - loss: 0.0252\n",
      "Epoch 7/20\n",
      "1300/1300 [==============================] - 2s 2ms/step - loss: 0.0185\n",
      "Epoch 8/20\n",
      "1300/1300 [==============================] - 2s 2ms/step - loss: 0.0156\n",
      "Epoch 9/20\n",
      "1300/1300 [==============================] - 2s 2ms/step - loss: 0.0207\n",
      "Epoch 10/20\n",
      "1300/1300 [==============================] - 2s 2ms/step - loss: 0.0170\n",
      "Epoch 11/20\n",
      "1300/1300 [==============================] - 2s 2ms/step - loss: 0.0162\n",
      "Epoch 12/20\n",
      "1300/1300 [==============================] - 3s 2ms/step - loss: 0.0154\n",
      "Epoch 13/20\n",
      "1300/1300 [==============================] - 3s 2ms/step - loss: 0.0149\n",
      "Epoch 14/20\n",
      "1300/1300 [==============================] - 2s 2ms/step - loss: 0.0138\n",
      "Epoch 15/20\n",
      "1300/1300 [==============================] - 2s 2ms/step - loss: 0.0155\n",
      "Epoch 16/20\n",
      "1300/1300 [==============================] - 2s 2ms/step - loss: 0.0126\n",
      "Epoch 17/20\n",
      "1300/1300 [==============================] - 2s 2ms/step - loss: 0.0147\n",
      "Epoch 18/20\n",
      "1300/1300 [==============================] - 2s 2ms/step - loss: 0.0143\n",
      "Epoch 19/20\n",
      "1300/1300 [==============================] - 2s 2ms/step - loss: 0.0154\n",
      "Epoch 20/20\n",
      "1300/1300 [==============================] - 2s 2ms/step - loss: 0.0145\n"
     ]
    }
   ],
   "source": [
    "history_2 = model_2.fit([X_1, Y_1], y_1,  \n",
    "                    batch_size = BATCH_SIZE, epochs = NUM_EPOCHS, verbose = 1)\n",
    "history_3 = model_3.fit([X_2, Y_2], y_2,  \n",
    "                    batch_size = BATCH_SIZE, epochs = NUM_EPOCHS, verbose = 1)"
   ]
  },
  {
   "cell_type": "code",
   "execution_count": 101,
   "metadata": {},
   "outputs": [
    {
     "data": {
      "image/png": "[encoded data removed]",
      "text/plain": [
       "<Figure size 640x480 with 1 Axes>"
      ]
     },
     "metadata": {},
     "output_type": "display_data"
    }
   ],
   "source": [
    "# summarize history for loss\n",
    "plt.plot(history_2.history['loss'])\n",
    "plt.title('model loss')\n",
    "plt.ylabel('loss')\n",
    "plt.xlabel('epoch')\n",
    "plt.legend(['train', 'test'], loc='upper right')\n",
    "plt.show()"
   ]
  },
  {
   "cell_type": "code",
   "execution_count": 102,
   "metadata": {},
   "outputs": [
    {
     "data": {
      "image/png": "[encoded data removed]",
      "text/plain": [
       "<Figure size 640x480 with 1 Axes>"
      ]
     },
     "metadata": {},
     "output_type": "display_data"
    }
   ],
   "source": [
    "# summarize history for loss\n",
    "plt.plot(history_3.history['loss'])\n",
    "plt.title('model loss')\n",
    "plt.ylabel('loss')\n",
    "plt.xlabel('epoch')\n",
    "plt.legend(['train', 'test'], loc='upper right')\n",
    "plt.show()"
   ]
  },
  {
   "cell_type": "code",
   "execution_count": 106,
   "metadata": {},
   "outputs": [
    {
     "name": "stdout",
     "output_type": "stream",
     "text": [
      "Model: \"model_15\"\n",
      "__________________________________________________________________________________________________\n",
      " Layer (type)                   Output Shape         Param #     Connected to                     \n",
      "==================================================================================================\n",
      " input_31 (InputLayer)          [(None, 10)]         0           []                               \n",
      "                                                                                                  \n",
      " input_32 (InputLayer)          [(None, 10)]         0           []                               \n",
      "                                                                                                  \n",
      " sequential_15 (Sequential)     (None, 1)            2927        ['input_31[0][0]',               \n",
      "                                                                  'input_32[0][0]']               \n",
      "                                                                                                  \n",
      " subtract_15 (Subtract)         (None, 1)            0           ['sequential_15[0][0]',          \n",
      "                                                                  'sequential_15[1][0]']          \n",
      "                                                                                                  \n",
      " activation_15 (Activation)     (None, 1)            0           ['subtract_15[0][0]']            \n",
      "                                                                                                  \n",
      "==================================================================================================\n",
      "Total params: 2,927\n",
      "Trainable params: 2,927\n",
      "Non-trainable params: 0\n",
      "__________________________________________________________________________________________________\n"
     ]
    }
   ],
   "source": [
    "model_1.summary()"
   ]
  },
  {
   "cell_type": "code",
   "execution_count": 105,
   "metadata": {},
   "outputs": [
    {
     "name": "stdout",
     "output_type": "stream",
     "text": [
      "WARNING:tensorflow:Model was constructed with shape (None, 10) for input KerasTensor(type_spec=TensorSpec(shape=(None, 10), dtype=tf.float32, name='dense_60_input'), name='dense_60_input', description=\"created by layer 'dense_60_input'\"), but it was called on an input with incompatible shape (None,).\n"
     ]
    },
    {
     "ename": "ValueError",
     "evalue": "in user code:\n\n    File \"c:\\Users\\maxim\\anaconda\\envs\\xaiboost\\lib\\site-packages\\keras\\engine\\training.py\", line 2041, in predict_function  *\n        return step_function(self, iterator)\n    File \"c:\\Users\\maxim\\anaconda\\envs\\xaiboost\\lib\\site-packages\\keras\\engine\\training.py\", line 2027, in step_function  **\n        outputs = model.distribute_strategy.run(run_step, args=(data,))\n    File \"c:\\Users\\maxim\\anaconda\\envs\\xaiboost\\lib\\site-packages\\keras\\engine\\training.py\", line 2015, in run_step  **\n        outputs = model.predict_step(data)\n    File \"c:\\Users\\maxim\\anaconda\\envs\\xaiboost\\lib\\site-packages\\keras\\engine\\training.py\", line 1983, in predict_step\n        return self(x, training=False)\n    File \"c:\\Users\\maxim\\anaconda\\envs\\xaiboost\\lib\\site-packages\\keras\\utils\\traceback_utils.py\", line 70, in error_handler\n        raise e.with_traceback(filtered_tb) from None\n    File \"c:\\Users\\maxim\\anaconda\\envs\\xaiboost\\lib\\site-packages\\keras\\engine\\input_spec.py\", line 250, in assert_input_compatibility\n        raise ValueError(\n\n    ValueError: Exception encountered when calling layer \"sequential_15\" \"                 f\"(type Sequential).\n    \n    Input 0 of layer \"dense_60\" is incompatible with the layer: expected min_ndim=2, found ndim=1. Full shape received: (None,)\n    \n    Call arguments received by layer \"sequential_15\" \"                 f\"(type Sequential):\n      • inputs=tf.Tensor(shape=(None,), dtype=float32)\n      • training=False\n      • mask=None\n",
     "output_type": "error",
     "traceback": [
      "\u001b[1;31m---------------------------------------------------------------------------\u001b[0m",
      "\u001b[1;31mValueError\u001b[0m                                Traceback (most recent call last)",
      "Cell \u001b[1;32mIn[105], line 2\u001b[0m\n\u001b[0;32m      1\u001b[0m \u001b[38;5;28;01mfor\u001b[39;00m i \u001b[38;5;129;01min\u001b[39;00m \u001b[38;5;28mrange\u001b[39m(\u001b[38;5;28mlen\u001b[39m(X)):\n\u001b[1;32m----> 2\u001b[0m     a\u001b[38;5;241m=\u001b[39m\u001b[43mbase_network_1\u001b[49m\u001b[38;5;241;43m.\u001b[39;49m\u001b[43mpredict\u001b[49m\u001b[43m(\u001b[49m\u001b[43mX\u001b[49m\u001b[43m[\u001b[49m\u001b[43mi\u001b[49m\u001b[43m]\u001b[49m\u001b[43m)\u001b[49m\u001b[38;5;241m-\u001b[39m base_network_1\u001b[38;5;241m.\u001b[39mpredict(Y[i])\n\u001b[0;32m      3\u001b[0m     b\u001b[38;5;241m=\u001b[39mbase_network_2\u001b[38;5;241m.\u001b[39mpredict(X[i])\u001b[38;5;241m-\u001b[39m base_network_2\u001b[38;5;241m.\u001b[39mpredict(Y[i])\n\u001b[0;32m      4\u001b[0m     c\u001b[38;5;241m=\u001b[39mbase_network_3\u001b[38;5;241m.\u001b[39mpredict(X[i])\u001b[38;5;241m-\u001b[39m base_network_3\u001b[38;5;241m.\u001b[39mpredict(Y[i])\n",
      "File \u001b[1;32mc:\\Users\\maxim\\anaconda\\envs\\xaiboost\\lib\\site-packages\\keras\\utils\\traceback_utils.py:70\u001b[0m, in \u001b[0;36mfilter_traceback.<locals>.error_handler\u001b[1;34m(*args, **kwargs)\u001b[0m\n\u001b[0;32m     67\u001b[0m     filtered_tb \u001b[38;5;241m=\u001b[39m _process_traceback_frames(e\u001b[38;5;241m.\u001b[39m__traceback__)\n\u001b[0;32m     68\u001b[0m     \u001b[38;5;66;03m# To get the full stack trace, call:\u001b[39;00m\n\u001b[0;32m     69\u001b[0m     \u001b[38;5;66;03m# `tf.debugging.disable_traceback_filtering()`\u001b[39;00m\n\u001b[1;32m---> 70\u001b[0m     \u001b[38;5;28;01mraise\u001b[39;00m e\u001b[38;5;241m.\u001b[39mwith_traceback(filtered_tb) \u001b[38;5;28;01mfrom\u001b[39;00m \u001b[38;5;28;01mNone\u001b[39;00m\n\u001b[0;32m     71\u001b[0m \u001b[38;5;28;01mfinally\u001b[39;00m:\n\u001b[0;32m     72\u001b[0m     \u001b[38;5;28;01mdel\u001b[39;00m filtered_tb\n",
      "File \u001b[1;32m~\\AppData\\Local\\Temp\\__autograph_generated_fileninnjnkn.py:15\u001b[0m, in \u001b[0;36mouter_factory.<locals>.inner_factory.<locals>.tf__predict_function\u001b[1;34m(iterator)\u001b[0m\n\u001b[0;32m     13\u001b[0m \u001b[38;5;28;01mtry\u001b[39;00m:\n\u001b[0;32m     14\u001b[0m     do_return \u001b[38;5;241m=\u001b[39m \u001b[38;5;28;01mTrue\u001b[39;00m\n\u001b[1;32m---> 15\u001b[0m     retval_ \u001b[38;5;241m=\u001b[39m ag__\u001b[38;5;241m.\u001b[39mconverted_call(ag__\u001b[38;5;241m.\u001b[39mld(step_function), (ag__\u001b[38;5;241m.\u001b[39mld(\u001b[38;5;28mself\u001b[39m), ag__\u001b[38;5;241m.\u001b[39mld(iterator)), \u001b[38;5;28;01mNone\u001b[39;00m, fscope)\n\u001b[0;32m     16\u001b[0m \u001b[38;5;28;01mexcept\u001b[39;00m:\n\u001b[0;32m     17\u001b[0m     do_return \u001b[38;5;241m=\u001b[39m \u001b[38;5;28;01mFalse\u001b[39;00m\n",
      "\u001b[1;31mValueError\u001b[0m: in user code:\n\n    File \"c:\\Users\\maxim\\anaconda\\envs\\xaiboost\\lib\\site-packages\\keras\\engine\\training.py\", line 2041, in predict_function  *\n        return step_function(self, iterator)\n    File \"c:\\Users\\maxim\\anaconda\\envs\\xaiboost\\lib\\site-packages\\keras\\engine\\training.py\", line 2027, in step_function  **\n        outputs = model.distribute_strategy.run(run_step, args=(data,))\n    File \"c:\\Users\\maxim\\anaconda\\envs\\xaiboost\\lib\\site-packages\\keras\\engine\\training.py\", line 2015, in run_step  **\n        outputs = model.predict_step(data)\n    File \"c:\\Users\\maxim\\anaconda\\envs\\xaiboost\\lib\\site-packages\\keras\\engine\\training.py\", line 1983, in predict_step\n        return self(x, training=False)\n    File \"c:\\Users\\maxim\\anaconda\\envs\\xaiboost\\lib\\site-packages\\keras\\utils\\traceback_utils.py\", line 70, in error_handler\n        raise e.with_traceback(filtered_tb) from None\n    File \"c:\\Users\\maxim\\anaconda\\envs\\xaiboost\\lib\\site-packages\\keras\\engine\\input_spec.py\", line 250, in assert_input_compatibility\n        raise ValueError(\n\n    ValueError: Exception encountered when calling layer \"sequential_15\" \"                 f\"(type Sequential).\n    \n    Input 0 of layer \"dense_60\" is incompatible with the layer: expected min_ndim=2, found ndim=1. Full shape received: (None,)\n    \n    Call arguments received by layer \"sequential_15\" \"                 f\"(type Sequential):\n      • inputs=tf.Tensor(shape=(None,), dtype=float32)\n      • training=False\n      • mask=None\n"
     ]
    }
   ],
   "source": [
    "for i in range(len(X)):\n",
    "    a=base_network_1.predict(X[i])- base_network_1.predict(Y[i])\n",
    "    b=base_network_2.predict(X[i])- base_network_2.predict(Y[i])\n",
    "    c=base_network_3.predict(X[i])- base_network_3.predict(Y[i])\n",
    "    scores=[]\n",
    "    if max(a,b,c)==a:\n",
    "        score.append(0)\n",
    "    if max(a,b,c)==a:\n",
    "        score.append(1)\n",
    "    if max(a,b,c)==a:\n",
    "        score.append(2)\n",
    "\n",
    "\n",
    "\n"
   ]
  }
 ],
 "metadata": {
  "kernelspec": {
   "display_name": "xaiboost",
   "language": "python",
   "name": "python3"
  },
  "language_info": {
   "codemirror_mode": {
    "name": "ipython",
    "version": 3
   },
   "file_extension": ".py",
   "mimetype": "text/x-python",
   "name": "python",
   "nbconvert_exporter": "python",
   "pygments_lexer": "ipython3",
   "version": "3.10.8"
  }
 },
 "nbformat": 4,
 "nbformat_minor": 2
}
